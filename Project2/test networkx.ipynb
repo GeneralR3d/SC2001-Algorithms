{
 "cells": [
  {
   "cell_type": "code",
   "execution_count": 1,
   "id": "a874f111",
   "metadata": {},
   "outputs": [],
   "source": [
    "import networkx as nx"
   ]
  },
  {
   "cell_type": "code",
   "execution_count": 3,
   "id": "76e1680e",
   "metadata": {},
   "outputs": [],
   "source": [
    "G = nx.gnm_random_graph(10,23)"
   ]
  },
  {
   "cell_type": "code",
   "execution_count": 6,
   "id": "729b71d6",
   "metadata": {},
   "outputs": [
    {
     "name": "stderr",
     "output_type": "stream",
     "text": [
      "C:\\Users\\TdrDi\\AppData\\Local\\Temp\\ipykernel_19464\\3346665799.py:1: FutureWarning: adjacency_matrix will return a scipy.sparse array instead of a matrix in Networkx 3.0.\n",
      "  matrix=nx.adjacency_matrix(G)\n"
     ]
    }
   ],
   "source": [
    "matrix=nx.adjacency_matrix(G)"
   ]
  },
  {
   "cell_type": "code",
   "execution_count": 7,
   "id": "7ae83840",
   "metadata": {},
   "outputs": [
    {
     "name": "stdout",
     "output_type": "stream",
     "text": [
      "  (0, 1)\t1\n",
      "  (0, 4)\t1\n",
      "  (0, 8)\t1\n",
      "  (1, 0)\t1\n",
      "  (1, 2)\t1\n",
      "  (1, 8)\t1\n",
      "  (1, 9)\t1\n",
      "  (2, 1)\t1\n",
      "  (2, 3)\t1\n",
      "  (2, 4)\t1\n",
      "  (2, 5)\t1\n",
      "  (2, 6)\t1\n",
      "  (2, 9)\t1\n",
      "  (3, 2)\t1\n",
      "  (3, 4)\t1\n",
      "  (3, 5)\t1\n",
      "  (3, 8)\t1\n",
      "  (4, 0)\t1\n",
      "  (4, 2)\t1\n",
      "  (4, 3)\t1\n",
      "  (4, 5)\t1\n",
      "  (4, 6)\t1\n",
      "  (4, 7)\t1\n",
      "  (5, 2)\t1\n",
      "  (5, 3)\t1\n",
      "  (5, 4)\t1\n",
      "  (5, 7)\t1\n",
      "  (5, 8)\t1\n",
      "  (5, 9)\t1\n",
      "  (6, 2)\t1\n",
      "  (6, 4)\t1\n",
      "  (6, 8)\t1\n",
      "  (6, 9)\t1\n",
      "  (7, 4)\t1\n",
      "  (7, 5)\t1\n",
      "  (7, 9)\t1\n",
      "  (8, 0)\t1\n",
      "  (8, 1)\t1\n",
      "  (8, 3)\t1\n",
      "  (8, 5)\t1\n",
      "  (8, 6)\t1\n",
      "  (9, 1)\t1\n",
      "  (9, 2)\t1\n",
      "  (9, 5)\t1\n",
      "  (9, 6)\t1\n",
      "  (9, 7)\t1\n"
     ]
    }
   ],
   "source": [
    "print(matrix)"
   ]
  },
  {
   "cell_type": "code",
   "execution_count": null,
   "id": "4551cb8c",
   "metadata": {},
   "outputs": [],
   "source": []
  }
 ],
 "metadata": {
  "kernelspec": {
   "display_name": "Python 3 (ipykernel)",
   "language": "python",
   "name": "python3"
  },
  "language_info": {
   "codemirror_mode": {
    "name": "ipython",
    "version": 3
   },
   "file_extension": ".py",
   "mimetype": "text/x-python",
   "name": "python",
   "nbconvert_exporter": "python",
   "pygments_lexer": "ipython3",
   "version": "3.9.13"
  }
 },
 "nbformat": 4,
 "nbformat_minor": 5
}
